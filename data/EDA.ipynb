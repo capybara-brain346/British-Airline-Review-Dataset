{
 "cells": [
  {
   "cell_type": "code",
   "execution_count": 55,
   "id": "f4a5e015-d694-4e67-aeda-b75b11c19a59",
   "metadata": {},
   "outputs": [],
   "source": [
    "import pandas as pd\n",
    "import numpy as np\n",
    "import matplotlib.pyplot as plt\n",
    "import seaborn as sns"
   ]
  },
  {
   "cell_type": "code",
   "execution_count": 56,
   "id": "57b9c61e-f96c-4425-bfcf-1397f780b5df",
   "metadata": {},
   "outputs": [
    {
     "data": {
      "text/html": [
       "<div>\n",
       "<style scoped>\n",
       "    .dataframe tbody tr th:only-of-type {\n",
       "        vertical-align: middle;\n",
       "    }\n",
       "\n",
       "    .dataframe tbody tr th {\n",
       "        vertical-align: top;\n",
       "    }\n",
       "\n",
       "    .dataframe thead th {\n",
       "        text-align: right;\n",
       "    }\n",
       "</style>\n",
       "<table border=\"1\" class=\"dataframe\">\n",
       "  <thead>\n",
       "    <tr style=\"text-align: right;\">\n",
       "      <th></th>\n",
       "      <th>header</th>\n",
       "      <th>author</th>\n",
       "      <th>date</th>\n",
       "      <th>place</th>\n",
       "      <th>content</th>\n",
       "      <th>aircraft</th>\n",
       "      <th>traveller_type</th>\n",
       "      <th>seat_type</th>\n",
       "      <th>route</th>\n",
       "      <th>date_flown</th>\n",
       "      <th>recommended</th>\n",
       "      <th>trip_verified</th>\n",
       "      <th>rating</th>\n",
       "      <th>seat_comfort</th>\n",
       "      <th>cabin_staff_service</th>\n",
       "      <th>food_beverages</th>\n",
       "      <th>ground_service</th>\n",
       "      <th>value_for_money</th>\n",
       "      <th>entertainment</th>\n",
       "    </tr>\n",
       "  </thead>\n",
       "  <tbody>\n",
       "    <tr>\n",
       "      <th>0</th>\n",
       "      <td>service was mediocre at best</td>\n",
       "      <td>Gary Storer</td>\n",
       "      <td>03-10-2023</td>\n",
       "      <td>United Kingdom</td>\n",
       "      <td>Just returned from Chicago, flew out 10 days ...</td>\n",
       "      <td>A380</td>\n",
       "      <td>Couple Leisure</td>\n",
       "      <td>Economy Class</td>\n",
       "      <td>Chicago to Manchester via Heathrow</td>\n",
       "      <td>01-10-2023</td>\n",
       "      <td>no</td>\n",
       "      <td>Not Verified</td>\n",
       "      <td>2</td>\n",
       "      <td>2</td>\n",
       "      <td>3</td>\n",
       "      <td>1</td>\n",
       "      <td>2</td>\n",
       "      <td>2</td>\n",
       "      <td>-1</td>\n",
       "    </tr>\n",
       "    <tr>\n",
       "      <th>1</th>\n",
       "      <td>BA standards continue to decline</td>\n",
       "      <td>A Jensen</td>\n",
       "      <td>02-10-2023</td>\n",
       "      <td>United Kingdom</td>\n",
       "      <td>BA standards continue to decline every time ...</td>\n",
       "      <td>A320</td>\n",
       "      <td>Business</td>\n",
       "      <td>Business Class</td>\n",
       "      <td>London Heathrow to Munich</td>\n",
       "      <td>01-09-2023</td>\n",
       "      <td>no</td>\n",
       "      <td>Verified</td>\n",
       "      <td>2</td>\n",
       "      <td>2</td>\n",
       "      <td>1</td>\n",
       "      <td>2</td>\n",
       "      <td>1</td>\n",
       "      <td>1</td>\n",
       "      <td>-1</td>\n",
       "    </tr>\n",
       "    <tr>\n",
       "      <th>2</th>\n",
       "      <td>won the race to the bottom\"</td>\n",
       "      <td>John Rockett</td>\n",
       "      <td>02-10-2023</td>\n",
       "      <td>United Kingdom</td>\n",
       "      <td>Awful. Business class check in queue just as...</td>\n",
       "      <td>A320</td>\n",
       "      <td>Couple Leisure</td>\n",
       "      <td>Business Class</td>\n",
       "      <td>Heathrow to Istanbul</td>\n",
       "      <td>01-09-2023</td>\n",
       "      <td>no</td>\n",
       "      <td>Not Verified</td>\n",
       "      <td>2</td>\n",
       "      <td>2</td>\n",
       "      <td>3</td>\n",
       "      <td>2</td>\n",
       "      <td>1</td>\n",
       "      <td>1</td>\n",
       "      <td>-1</td>\n",
       "    </tr>\n",
       "    <tr>\n",
       "      <th>3</th>\n",
       "      <td>Not a reliable airline</td>\n",
       "      <td>Tatiana Bobrovskaya</td>\n",
       "      <td>02-10-2023</td>\n",
       "      <td>United Kingdom</td>\n",
       "      <td>Not a reliable airline. You cannot trust the...</td>\n",
       "      <td>A320</td>\n",
       "      <td>Business</td>\n",
       "      <td>Economy Class</td>\n",
       "      <td>London to Geneva</td>\n",
       "      <td>01-10-2023</td>\n",
       "      <td>no</td>\n",
       "      <td>Verified</td>\n",
       "      <td>3</td>\n",
       "      <td>4</td>\n",
       "      <td>4</td>\n",
       "      <td>2</td>\n",
       "      <td>1</td>\n",
       "      <td>1</td>\n",
       "      <td>-1</td>\n",
       "    </tr>\n",
       "    <tr>\n",
       "      <th>4</th>\n",
       "      <td>Very disappointed</td>\n",
       "      <td>Tom Slowbe</td>\n",
       "      <td>28-09-2023</td>\n",
       "      <td>United States</td>\n",
       "      <td>The airplanes and the lounges are worn out, o...</td>\n",
       "      <td>777-300 and A320</td>\n",
       "      <td>Couple Leisure</td>\n",
       "      <td>First Class</td>\n",
       "      <td>Dallas to Dubrovnik via Heathrow</td>\n",
       "      <td>01-09-2023</td>\n",
       "      <td>no</td>\n",
       "      <td>Verified</td>\n",
       "      <td>1</td>\n",
       "      <td>1</td>\n",
       "      <td>4</td>\n",
       "      <td>4</td>\n",
       "      <td>3</td>\n",
       "      <td>2</td>\n",
       "      <td>3</td>\n",
       "    </tr>\n",
       "  </tbody>\n",
       "</table>\n",
       "</div>"
      ],
      "text/plain": [
       "                             header               author        date  \\\n",
       "0      service was mediocre at best          Gary Storer  03-10-2023   \n",
       "1  BA standards continue to decline             A Jensen  02-10-2023   \n",
       "2      won the race to the bottom\"          John Rockett  02-10-2023   \n",
       "3            Not a reliable airline  Tatiana Bobrovskaya  02-10-2023   \n",
       "4                 Very disappointed           Tom Slowbe  28-09-2023   \n",
       "\n",
       "            place                                            content  \\\n",
       "0  United Kingdom   Just returned from Chicago, flew out 10 days ...   \n",
       "1  United Kingdom    BA standards continue to decline every time ...   \n",
       "2  United Kingdom    Awful. Business class check in queue just as...   \n",
       "3  United Kingdom    Not a reliable airline. You cannot trust the...   \n",
       "4   United States   The airplanes and the lounges are worn out, o...   \n",
       "\n",
       "           aircraft  traveller_type       seat_type  \\\n",
       "0              A380  Couple Leisure   Economy Class   \n",
       "1              A320        Business  Business Class   \n",
       "2              A320  Couple Leisure  Business Class   \n",
       "3              A320        Business   Economy Class   \n",
       "4  777-300 and A320  Couple Leisure     First Class   \n",
       "\n",
       "                                route  date_flown recommended trip_verified  \\\n",
       "0  Chicago to Manchester via Heathrow  01-10-2023          no  Not Verified   \n",
       "1           London Heathrow to Munich  01-09-2023          no      Verified   \n",
       "2                Heathrow to Istanbul  01-09-2023          no  Not Verified   \n",
       "3                    London to Geneva  01-10-2023          no      Verified   \n",
       "4    Dallas to Dubrovnik via Heathrow  01-09-2023          no      Verified   \n",
       "\n",
       "   rating  seat_comfort  cabin_staff_service  food_beverages  ground_service  \\\n",
       "0       2             2                    3               1               2   \n",
       "1       2             2                    1               2               1   \n",
       "2       2             2                    3               2               1   \n",
       "3       3             4                    4               2               1   \n",
       "4       1             1                    4               4               3   \n",
       "\n",
       "   value_for_money  entertainment  \n",
       "0                2             -1  \n",
       "1                1             -1  \n",
       "2                1             -1  \n",
       "3                1             -1  \n",
       "4                2              3  "
      ]
     },
     "execution_count": 56,
     "metadata": {},
     "output_type": "execute_result"
    }
   ],
   "source": [
    "british_airline_data = pd.read_csv(r\"../British Airline Data/preprocessed_airline_dataset.csv\", parse_dates=['date'])\n",
    "british_airline_data.head()"
   ]
  },
  {
   "cell_type": "code",
   "execution_count": 57,
   "id": "b8d18e29-c4c9-4364-86a6-d35022b3c076",
   "metadata": {},
   "outputs": [],
   "source": [
    "british_airline_data = british_airline_data.dropna()"
   ]
  },
  {
   "cell_type": "code",
   "execution_count": 58,
   "id": "3fea4ce0-982e-41e7-9334-7874cb646db2",
   "metadata": {},
   "outputs": [
    {
     "data": {
      "text/plain": [
       "header                 0\n",
       "author                 0\n",
       "date                   0\n",
       "place                  0\n",
       "content                0\n",
       "aircraft               0\n",
       "traveller_type         0\n",
       "seat_type              0\n",
       "route                  0\n",
       "date_flown             0\n",
       "recommended            0\n",
       "trip_verified          0\n",
       "rating                 0\n",
       "seat_comfort           0\n",
       "cabin_staff_service    0\n",
       "food_beverages         0\n",
       "ground_service         0\n",
       "value_for_money        0\n",
       "entertainment          0\n",
       "dtype: int64"
      ]
     },
     "execution_count": 58,
     "metadata": {},
     "output_type": "execute_result"
    }
   ],
   "source": [
    "british_airline_data.isnull().sum()"
   ]
  },
  {
   "cell_type": "code",
   "execution_count": 59,
   "id": "7c232a3a-0c63-4079-a6ab-8fed2ffa1556",
   "metadata": {},
   "outputs": [
    {
     "data": {
      "text/plain": [
       "['header',\n",
       " 'author',\n",
       " 'date',\n",
       " 'place',\n",
       " 'content',\n",
       " 'aircraft',\n",
       " 'traveller_type',\n",
       " 'seat_type',\n",
       " 'route',\n",
       " 'date_flown',\n",
       " 'recommended',\n",
       " 'trip_verified',\n",
       " 'rating',\n",
       " 'seat_comfort',\n",
       " 'cabin_staff_service',\n",
       " 'food_beverages',\n",
       " 'ground_service',\n",
       " 'value_for_money',\n",
       " 'entertainment']"
      ]
     },
     "execution_count": 59,
     "metadata": {},
     "output_type": "execute_result"
    }
   ],
   "source": [
    "features = [i for i in british_airline_data.columns]\n",
    "features"
   ]
  },
  {
   "cell_type": "code",
   "execution_count": 60,
   "id": "288121ae-6880-48de-b858-e50b45a14e89",
   "metadata": {},
   "outputs": [],
   "source": [
    "unique_reviews = [i for i in british_airline_data['header'].unique()]"
   ]
  },
  {
   "cell_type": "code",
   "execution_count": 61,
   "id": "8d47b2b3-33fd-4eb3-81ef-a0e81e9f9eb2",
   "metadata": {},
   "outputs": [
    {
     "data": {
      "text/plain": [
       "832"
      ]
     },
     "execution_count": 61,
     "metadata": {},
     "output_type": "execute_result"
    }
   ],
   "source": [
    "unique_author = [i for i in british_airline_data['author'].unique()]\n",
    "len(unique_author)"
   ]
  },
  {
   "cell_type": "code",
   "execution_count": 62,
   "id": "c7b9e094-d64f-4a82-b6ab-d0a8fa99dea7",
   "metadata": {},
   "outputs": [
    {
     "data": {
      "text/plain": [
       "(1323, 19)"
      ]
     },
     "execution_count": 62,
     "metadata": {},
     "output_type": "execute_result"
    }
   ],
   "source": [
    "british_airline_data.shape"
   ]
  },
  {
   "cell_type": "code",
   "execution_count": 63,
   "id": "07f43949-3ae9-45f8-bc3b-4f6fb922a01b",
   "metadata": {},
   "outputs": [
    {
     "data": {
      "text/plain": [
       "5"
      ]
     },
     "execution_count": 63,
     "metadata": {},
     "output_type": "execute_result"
    }
   ],
   "source": [
    "british_airline_data['food_beverages'].max()"
   ]
  },
  {
   "cell_type": "markdown",
   "id": "2be6e7eb-16f5-4e3a-878b-a21a46d42c87",
   "metadata": {},
   "source": [
    "# Categorical Features"
   ]
  },
  {
   "cell_type": "code",
   "execution_count": 64,
   "id": "7a22b4dd-49c8-4534-870f-12b6d44fa944",
   "metadata": {},
   "outputs": [
    {
     "data": {
      "text/plain": [
       "['United Kingdom',\n",
       " 'United States',\n",
       " 'Germany',\n",
       " 'Iceland',\n",
       " 'Australia',\n",
       " 'Poland',\n",
       " 'Hong Kong',\n",
       " 'Qatar',\n",
       " 'South Africa',\n",
       " 'Greece',\n",
       " 'Italy',\n",
       " 'Senegal',\n",
       " 'Canada',\n",
       " 'Chile',\n",
       " 'Ireland',\n",
       " 'Netherlands',\n",
       " 'France',\n",
       " 'India',\n",
       " 'Belgium',\n",
       " 'United Arab Emirates',\n",
       " 'Spain',\n",
       " 'New Zealand',\n",
       " 'Czech Republic',\n",
       " 'Malaysia',\n",
       " 'Botswana',\n",
       " 'Panama',\n",
       " 'Sweden',\n",
       " 'Switzerland',\n",
       " 'Russian Federation',\n",
       " 'Thailand',\n",
       " 'Singapore',\n",
       " 'Saint Kitts and Nevis',\n",
       " 'Vietnam',\n",
       " 'Norway',\n",
       " 'Argentina',\n",
       " 'Jordan',\n",
       " 'Mexico',\n",
       " 'China',\n",
       " 'Slovakia',\n",
       " 'South Korea',\n",
       " 'Ghana',\n",
       " 'Saudi Arabia',\n",
       " 'Hungary',\n",
       " 'Austria',\n",
       " 'Brazil',\n",
       " 'Portugal',\n",
       " 'Taiwan',\n",
       " 'Romania',\n",
       " 'Denmark',\n",
       " 'Turkey',\n",
       " 'Bahrain',\n",
       " 'Dominican Republic',\n",
       " 'Bulgaria',\n",
       " 'Kuwait',\n",
       " 'Cyprus',\n",
       " 'Japan']"
      ]
     },
     "execution_count": 64,
     "metadata": {},
     "output_type": "execute_result"
    }
   ],
   "source": [
    "[i for i in british_airline_data.place.unique()]"
   ]
  },
  {
   "cell_type": "code",
   "execution_count": null,
   "id": "0d19702c-83f5-422b-8da2-681293ab0608",
   "metadata": {},
   "outputs": [],
   "source": [
    "[i for i in british_airline_data.aircraft.unique()]"
   ]
  },
  {
   "cell_type": "code",
   "execution_count": 66,
   "id": "6e4fae51-16cc-41d7-ba6e-adf53968917c",
   "metadata": {},
   "outputs": [
    {
     "data": {
      "text/html": [
       "<div>\n",
       "<style scoped>\n",
       "    .dataframe tbody tr th:only-of-type {\n",
       "        vertical-align: middle;\n",
       "    }\n",
       "\n",
       "    .dataframe tbody tr th {\n",
       "        vertical-align: top;\n",
       "    }\n",
       "\n",
       "    .dataframe thead th {\n",
       "        text-align: right;\n",
       "    }\n",
       "</style>\n",
       "<table border=\"1\" class=\"dataframe\">\n",
       "  <thead>\n",
       "    <tr style=\"text-align: right;\">\n",
       "      <th></th>\n",
       "      <th>header</th>\n",
       "      <th>author</th>\n",
       "      <th>date</th>\n",
       "      <th>place</th>\n",
       "      <th>content</th>\n",
       "      <th>aircraft</th>\n",
       "      <th>traveller_type</th>\n",
       "      <th>seat_type</th>\n",
       "      <th>route</th>\n",
       "      <th>date_flown</th>\n",
       "      <th>recommended</th>\n",
       "      <th>trip_verified</th>\n",
       "      <th>rating</th>\n",
       "      <th>seat_comfort</th>\n",
       "      <th>cabin_staff_service</th>\n",
       "      <th>food_beverages</th>\n",
       "      <th>ground_service</th>\n",
       "      <th>value_for_money</th>\n",
       "      <th>entertainment</th>\n",
       "    </tr>\n",
       "  </thead>\n",
       "  <tbody>\n",
       "    <tr>\n",
       "      <th>1169</th>\n",
       "      <td>a worn out and low cost discount carrier</td>\n",
       "      <td>B Pearson</td>\n",
       "      <td>23-11-2016</td>\n",
       "      <td>Thailand</td>\n",
       "      <td>I booked and bought an online ticket for a m...</td>\n",
       "      <td>Various</td>\n",
       "      <td>Business</td>\n",
       "      <td>Economy Class</td>\n",
       "      <td>BKK to LHR via LAD &amp; ABV</td>\n",
       "      <td>01-08-2016</td>\n",
       "      <td>no</td>\n",
       "      <td>Verified</td>\n",
       "      <td>7</td>\n",
       "      <td>1</td>\n",
       "      <td>1</td>\n",
       "      <td>2</td>\n",
       "      <td>2</td>\n",
       "      <td>1</td>\n",
       "      <td>1</td>\n",
       "    </tr>\n",
       "  </tbody>\n",
       "</table>\n",
       "</div>"
      ],
      "text/plain": [
       "                                        header     author        date  \\\n",
       "1169  a worn out and low cost discount carrier  B Pearson  23-11-2016   \n",
       "\n",
       "         place                                            content aircraft  \\\n",
       "1169  Thailand    I booked and bought an online ticket for a m...  Various   \n",
       "\n",
       "     traveller_type      seat_type                     route  date_flown  \\\n",
       "1169       Business  Economy Class  BKK to LHR via LAD & ABV  01-08-2016   \n",
       "\n",
       "     recommended trip_verified  rating  seat_comfort  cabin_staff_service  \\\n",
       "1169          no      Verified       7             1                    1   \n",
       "\n",
       "      food_beverages  ground_service  value_for_money  entertainment  \n",
       "1169               2               2                1              1  "
      ]
     },
     "execution_count": 66,
     "metadata": {},
     "output_type": "execute_result"
    }
   ],
   "source": [
    "british_airline_data[british_airline_data['aircraft']=='Various']"
   ]
  },
  {
   "cell_type": "code",
   "execution_count": 67,
   "id": "1d0444b7-41f1-4640-be5a-90fa6266027e",
   "metadata": {},
   "outputs": [
    {
     "data": {
      "text/plain": [
       "array(['Couple Leisure', 'Business', 'Solo Leisure', 'Family Leisure'],\n",
       "      dtype=object)"
      ]
     },
     "execution_count": 67,
     "metadata": {},
     "output_type": "execute_result"
    }
   ],
   "source": [
    "british_airline_data.traveller_type.unique()"
   ]
  },
  {
   "cell_type": "code",
   "execution_count": 68,
   "id": "b87ec884-2829-4678-abd9-57a68b123a98",
   "metadata": {},
   "outputs": [
    {
     "data": {
      "text/plain": [
       "['Economy Class', 'Business Class', 'First Class', 'Premium Economy']"
      ]
     },
     "execution_count": 68,
     "metadata": {},
     "output_type": "execute_result"
    }
   ],
   "source": [
    "[i for i in british_airline_data.seat_type.unique()] # 4 categorical features"
   ]
  },
  {
   "cell_type": "code",
   "execution_count": 69,
   "id": "7f527ebd-8c7d-4af4-97a3-1dcd96ed5ad4",
   "metadata": {},
   "outputs": [
    {
     "data": {
      "text/plain": [
       "array(['Not Verified', 'Verified'], dtype=object)"
      ]
     },
     "execution_count": 69,
     "metadata": {},
     "output_type": "execute_result"
    }
   ],
   "source": [
    "british_airline_data.trip_verified.unique()"
   ]
  },
  {
   "cell_type": "code",
   "execution_count": 70,
   "id": "78c97bc6-e513-4049-a25f-b29201438e1f",
   "metadata": {},
   "outputs": [
    {
     "data": {
      "text/plain": [
       "array(['no', 'yes'], dtype=object)"
      ]
     },
     "execution_count": 70,
     "metadata": {},
     "output_type": "execute_result"
    }
   ],
   "source": [
    "british_airline_data.recommended.unique()"
   ]
  },
  {
   "cell_type": "markdown",
   "id": "5d89e521-3bad-4987-993a-383bffa09ed6",
   "metadata": {},
   "source": [
    "# Categorical Features -->\n",
    "\n",
    "Airlines has 150 unique aircrafts\n",
    "\n",
    "Airlines hs 56 unique locations\n",
    "\n",
    "There are 4 traveller types\n",
    "\n",
    "There are 4 seat types\n",
    "\n",
    "Trips are either verified as real trips or not-verified\n",
    "\n",
    "The airline is either Recommended(Yes) or Not Recommended(No)"
   ]
  },
  {
   "cell_type": "code",
   "execution_count": 71,
   "id": "bbc78046-7fd6-4abd-80fc-1a58c00e5e69",
   "metadata": {},
   "outputs": [
    {
     "name": "stdout",
     "output_type": "stream",
     "text": [
      "<class 'pandas.core.frame.DataFrame'>\n",
      "Index: 1323 entries, 0 to 1323\n",
      "Data columns (total 19 columns):\n",
      " #   Column               Non-Null Count  Dtype \n",
      "---  ------               --------------  ----- \n",
      " 0   header               1323 non-null   object\n",
      " 1   author               1323 non-null   object\n",
      " 2   date                 1323 non-null   object\n",
      " 3   place                1323 non-null   object\n",
      " 4   content              1323 non-null   object\n",
      " 5   aircraft             1323 non-null   object\n",
      " 6   traveller_type       1323 non-null   object\n",
      " 7   seat_type            1323 non-null   object\n",
      " 8   route                1323 non-null   object\n",
      " 9   date_flown           1323 non-null   object\n",
      " 10  recommended          1323 non-null   object\n",
      " 11  trip_verified        1323 non-null   object\n",
      " 12  rating               1323 non-null   int64 \n",
      " 13  seat_comfort         1323 non-null   int64 \n",
      " 14  cabin_staff_service  1323 non-null   int64 \n",
      " 15  food_beverages       1323 non-null   int64 \n",
      " 16  ground_service       1323 non-null   int64 \n",
      " 17  value_for_money      1323 non-null   int64 \n",
      " 18  entertainment        1323 non-null   int64 \n",
      "dtypes: int64(7), object(12)\n",
      "memory usage: 206.7+ KB\n"
     ]
    }
   ],
   "source": [
    "british_airline_data.info()"
   ]
  },
  {
   "cell_type": "code",
   "execution_count": 72,
   "id": "b2f49d0a-12f5-4392-a3ac-bbf7e3135195",
   "metadata": {},
   "outputs": [
    {
     "data": {
      "text/plain": [
       "<Axes: xlabel='recommended', ylabel='count'>"
      ]
     },
     "execution_count": 72,
     "metadata": {},
     "output_type": "execute_result"
    },
    {
     "data": {
      "image/png": "[encoded data removed]",
      "text/plain": [
       "<Figure size 640x480 with 1 Axes>"
      ]
     },
     "metadata": {},
     "output_type": "display_data"
    }
   ],
   "source": [
    "sns.countplot(data=british_airline_data, x=\"recommended\")"
   ]
  },
  {
   "cell_type": "markdown",
   "id": "4f1f19d6-22bb-4c2a-ba45-937e02d9bf13",
   "metadata": {},
   "source": [
    "More flights are unrecommended"
   ]
  },
  {
   "cell_type": "code",
   "execution_count": 76,
   "id": "a7dc74fb-4e2f-4d70-bd14-cfd70fa0ed75",
   "metadata": {},
   "outputs": [
    {
     "data": {
      "text/plain": [
       "4.145104895104895"
      ]
     },
     "execution_count": 76,
     "metadata": {},
     "output_type": "execute_result"
    }
   ],
   "source": [
    "recommended_ratings = british_airline_data[british_airline_data[\"recommended\"]=='yes']\n",
    "recommended_ratings['rating'].sum()/len(recommended_ratings)"
   ]
  },
  {
   "cell_type": "code",
   "execution_count": 95,
   "id": "c9129f91-6b2e-4918-8e14-35cf46c128ad",
   "metadata": {},
   "outputs": [
    {
     "data": {
      "text/plain": [
       "5.548951048951049"
      ]
     },
     "execution_count": 95,
     "metadata": {},
     "output_type": "execute_result"
    }
   ],
   "source": [
    "non_recommended_ratings = british_airline_data[british_airline_data[\"recommended\"]=='no']\n",
    "non_recommended_ratings['rating'].sum()/len(recommended_ratings)"
   ]
  },
  {
   "cell_type": "markdown",
   "id": "93af88c2-0369-41c8-8305-81e8b4741cf2",
   "metadata": {},
   "source": [
    "Average rating for recommended flights -> 4.14"
   ]
  },
  {
   "cell_type": "code",
   "execution_count": 96,
   "id": "42fcf53c-cdcf-4450-8a60-b366ced1e6a6",
   "metadata": {},
   "outputs": [
    {
     "data": {
      "text/html": [
       "<div>\n",
       "<style scoped>\n",
       "    .dataframe tbody tr th:only-of-type {\n",
       "        vertical-align: middle;\n",
       "    }\n",
       "\n",
       "    .dataframe tbody tr th {\n",
       "        vertical-align: top;\n",
       "    }\n",
       "\n",
       "    .dataframe thead th {\n",
       "        text-align: right;\n",
       "    }\n",
       "</style>\n",
       "<table border=\"1\" class=\"dataframe\">\n",
       "  <thead>\n",
       "    <tr style=\"text-align: right;\">\n",
       "      <th></th>\n",
       "      <th>header</th>\n",
       "      <th>author</th>\n",
       "      <th>date</th>\n",
       "      <th>place</th>\n",
       "      <th>content</th>\n",
       "      <th>aircraft</th>\n",
       "      <th>traveller_type</th>\n",
       "      <th>seat_type</th>\n",
       "      <th>route</th>\n",
       "      <th>date_flown</th>\n",
       "      <th>recommended</th>\n",
       "      <th>trip_verified</th>\n",
       "      <th>rating</th>\n",
       "      <th>seat_comfort</th>\n",
       "      <th>cabin_staff_service</th>\n",
       "      <th>food_beverages</th>\n",
       "      <th>ground_service</th>\n",
       "      <th>value_for_money</th>\n",
       "      <th>entertainment</th>\n",
       "    </tr>\n",
       "    <tr>\n",
       "      <th>date</th>\n",
       "      <th></th>\n",
       "      <th></th>\n",
       "      <th></th>\n",
       "      <th></th>\n",
       "      <th></th>\n",
       "      <th></th>\n",
       "      <th></th>\n",
       "      <th></th>\n",
       "      <th></th>\n",
       "      <th></th>\n",
       "      <th></th>\n",
       "      <th></th>\n",
       "      <th></th>\n",
       "      <th></th>\n",
       "      <th></th>\n",
       "      <th></th>\n",
       "      <th></th>\n",
       "      <th></th>\n",
       "      <th></th>\n",
       "    </tr>\n",
       "  </thead>\n",
       "  <tbody>\n",
       "    <tr>\n",
       "      <th>03-10-2023</th>\n",
       "      <td>service was mediocre at best</td>\n",
       "      <td>Gary Storer</td>\n",
       "      <td>03-10-2023</td>\n",
       "      <td>United Kingdom</td>\n",
       "      <td>Just returned from Chicago, flew out 10 days ...</td>\n",
       "      <td>A380</td>\n",
       "      <td>Couple Leisure</td>\n",
       "      <td>Economy Class</td>\n",
       "      <td>Chicago to Manchester via Heathrow</td>\n",
       "      <td>01-10-2023</td>\n",
       "      <td>no</td>\n",
       "      <td>Not Verified</td>\n",
       "      <td>2</td>\n",
       "      <td>2</td>\n",
       "      <td>3</td>\n",
       "      <td>1</td>\n",
       "      <td>2</td>\n",
       "      <td>2</td>\n",
       "      <td>-1</td>\n",
       "    </tr>\n",
       "    <tr>\n",
       "      <th>02-10-2023</th>\n",
       "      <td>BA standards continue to decline</td>\n",
       "      <td>A Jensen</td>\n",
       "      <td>02-10-2023</td>\n",
       "      <td>United Kingdom</td>\n",
       "      <td>BA standards continue to decline every time ...</td>\n",
       "      <td>A320</td>\n",
       "      <td>Business</td>\n",
       "      <td>Business Class</td>\n",
       "      <td>London Heathrow to Munich</td>\n",
       "      <td>01-09-2023</td>\n",
       "      <td>no</td>\n",
       "      <td>Verified</td>\n",
       "      <td>2</td>\n",
       "      <td>2</td>\n",
       "      <td>1</td>\n",
       "      <td>2</td>\n",
       "      <td>1</td>\n",
       "      <td>1</td>\n",
       "      <td>-1</td>\n",
       "    </tr>\n",
       "    <tr>\n",
       "      <th>02-10-2023</th>\n",
       "      <td>won the race to the bottom\"</td>\n",
       "      <td>John Rockett</td>\n",
       "      <td>02-10-2023</td>\n",
       "      <td>United Kingdom</td>\n",
       "      <td>Awful. Business class check in queue just as...</td>\n",
       "      <td>A320</td>\n",
       "      <td>Couple Leisure</td>\n",
       "      <td>Business Class</td>\n",
       "      <td>Heathrow to Istanbul</td>\n",
       "      <td>01-09-2023</td>\n",
       "      <td>no</td>\n",
       "      <td>Not Verified</td>\n",
       "      <td>2</td>\n",
       "      <td>2</td>\n",
       "      <td>3</td>\n",
       "      <td>2</td>\n",
       "      <td>1</td>\n",
       "      <td>1</td>\n",
       "      <td>-1</td>\n",
       "    </tr>\n",
       "    <tr>\n",
       "      <th>02-10-2023</th>\n",
       "      <td>Not a reliable airline</td>\n",
       "      <td>Tatiana Bobrovskaya</td>\n",
       "      <td>02-10-2023</td>\n",
       "      <td>United Kingdom</td>\n",
       "      <td>Not a reliable airline. You cannot trust the...</td>\n",
       "      <td>A320</td>\n",
       "      <td>Business</td>\n",
       "      <td>Economy Class</td>\n",
       "      <td>London to Geneva</td>\n",
       "      <td>01-10-2023</td>\n",
       "      <td>no</td>\n",
       "      <td>Verified</td>\n",
       "      <td>3</td>\n",
       "      <td>4</td>\n",
       "      <td>4</td>\n",
       "      <td>2</td>\n",
       "      <td>1</td>\n",
       "      <td>1</td>\n",
       "      <td>-1</td>\n",
       "    </tr>\n",
       "    <tr>\n",
       "      <th>28-09-2023</th>\n",
       "      <td>Very disappointed</td>\n",
       "      <td>Tom Slowbe</td>\n",
       "      <td>28-09-2023</td>\n",
       "      <td>United States</td>\n",
       "      <td>The airplanes and the lounges are worn out, o...</td>\n",
       "      <td>777-300 and A320</td>\n",
       "      <td>Couple Leisure</td>\n",
       "      <td>First Class</td>\n",
       "      <td>Dallas to Dubrovnik via Heathrow</td>\n",
       "      <td>01-09-2023</td>\n",
       "      <td>no</td>\n",
       "      <td>Verified</td>\n",
       "      <td>1</td>\n",
       "      <td>1</td>\n",
       "      <td>4</td>\n",
       "      <td>4</td>\n",
       "      <td>3</td>\n",
       "      <td>2</td>\n",
       "      <td>3</td>\n",
       "    </tr>\n",
       "    <tr>\n",
       "      <th>...</th>\n",
       "      <td>...</td>\n",
       "      <td>...</td>\n",
       "      <td>...</td>\n",
       "      <td>...</td>\n",
       "      <td>...</td>\n",
       "      <td>...</td>\n",
       "      <td>...</td>\n",
       "      <td>...</td>\n",
       "      <td>...</td>\n",
       "      <td>...</td>\n",
       "      <td>...</td>\n",
       "      <td>...</td>\n",
       "      <td>...</td>\n",
       "      <td>...</td>\n",
       "      <td>...</td>\n",
       "      <td>...</td>\n",
       "      <td>...</td>\n",
       "      <td>...</td>\n",
       "      <td>...</td>\n",
       "    </tr>\n",
       "    <tr>\n",
       "      <th>26-03-2016</th>\n",
       "      <td>seat let down very good flight</td>\n",
       "      <td>Gregory Martinez</td>\n",
       "      <td>26-03-2016</td>\n",
       "      <td>United Kingdom</td>\n",
       "      <td>Barcelona to Seoul Incheon via London Heathr...</td>\n",
       "      <td>Boeing 787</td>\n",
       "      <td>Solo Leisure</td>\n",
       "      <td>Economy Class</td>\n",
       "      <td>BCN to SEL via LHR</td>\n",
       "      <td>01-03-2016</td>\n",
       "      <td>yes</td>\n",
       "      <td>Verified</td>\n",
       "      <td>8</td>\n",
       "      <td>3</td>\n",
       "      <td>4</td>\n",
       "      <td>4</td>\n",
       "      <td>4</td>\n",
       "      <td>5</td>\n",
       "      <td>4</td>\n",
       "    </tr>\n",
       "    <tr>\n",
       "      <th>25-03-2016</th>\n",
       "      <td>friendly and efficient service</td>\n",
       "      <td>Philip Djaferis</td>\n",
       "      <td>25-03-2016</td>\n",
       "      <td>Switzerland</td>\n",
       "      <td>London Heathrow to Houston on British Airway...</td>\n",
       "      <td>Boeing 777-200</td>\n",
       "      <td>Couple Leisure</td>\n",
       "      <td>Economy Class</td>\n",
       "      <td>LHR to IAH</td>\n",
       "      <td>01-03-2016</td>\n",
       "      <td>yes</td>\n",
       "      <td>Verified</td>\n",
       "      <td>8</td>\n",
       "      <td>3</td>\n",
       "      <td>5</td>\n",
       "      <td>4</td>\n",
       "      <td>4</td>\n",
       "      <td>4</td>\n",
       "      <td>4</td>\n",
       "    </tr>\n",
       "    <tr>\n",
       "      <th>24-03-2016</th>\n",
       "      <td>BA.com been truly appalling</td>\n",
       "      <td>Joanne Le Bon</td>\n",
       "      <td>24-03-2016</td>\n",
       "      <td>United Kingdom</td>\n",
       "      <td>We have flown with British Airways over 100 ...</td>\n",
       "      <td>Boeing 747-400</td>\n",
       "      <td>Couple Leisure</td>\n",
       "      <td>First Class</td>\n",
       "      <td>LHR to DEN</td>\n",
       "      <td>01-03-2016</td>\n",
       "      <td>no</td>\n",
       "      <td>Verified</td>\n",
       "      <td>8</td>\n",
       "      <td>3</td>\n",
       "      <td>4</td>\n",
       "      <td>3</td>\n",
       "      <td>4</td>\n",
       "      <td>2</td>\n",
       "      <td>3</td>\n",
       "    </tr>\n",
       "    <tr>\n",
       "      <th>23-03-2016</th>\n",
       "      <td>overall experience was pleasant</td>\n",
       "      <td>J Lawrence</td>\n",
       "      <td>23-03-2016</td>\n",
       "      <td>South Africa</td>\n",
       "      <td>British Airways from Seattle to Johannesburg...</td>\n",
       "      <td>Boeing 747-400 /A380</td>\n",
       "      <td>Solo Leisure</td>\n",
       "      <td>Economy Class</td>\n",
       "      <td>SEA to JNB via LHR</td>\n",
       "      <td>01-03-2016</td>\n",
       "      <td>yes</td>\n",
       "      <td>Verified</td>\n",
       "      <td>8</td>\n",
       "      <td>3</td>\n",
       "      <td>4</td>\n",
       "      <td>4</td>\n",
       "      <td>4</td>\n",
       "      <td>4</td>\n",
       "      <td>2</td>\n",
       "    </tr>\n",
       "    <tr>\n",
       "      <th>23-03-2016</th>\n",
       "      <td>the most uncomfortable flight</td>\n",
       "      <td>K Ong</td>\n",
       "      <td>23-03-2016</td>\n",
       "      <td>Malaysia</td>\n",
       "      <td>Gatwick to Amsterdam in Business class was t...</td>\n",
       "      <td>A320</td>\n",
       "      <td>Solo Leisure</td>\n",
       "      <td>Business Class</td>\n",
       "      <td>LGW to AMS</td>\n",
       "      <td>01-03-2016</td>\n",
       "      <td>no</td>\n",
       "      <td>Verified</td>\n",
       "      <td>1</td>\n",
       "      <td>2</td>\n",
       "      <td>2</td>\n",
       "      <td>2</td>\n",
       "      <td>3</td>\n",
       "      <td>2</td>\n",
       "      <td>-1</td>\n",
       "    </tr>\n",
       "  </tbody>\n",
       "</table>\n",
       "<p>1323 rows × 19 columns</p>\n",
       "</div>"
      ],
      "text/plain": [
       "                                      header               author        date  \\\n",
       "date                                                                            \n",
       "03-10-2023      service was mediocre at best          Gary Storer  03-10-2023   \n",
       "02-10-2023  BA standards continue to decline             A Jensen  02-10-2023   \n",
       "02-10-2023      won the race to the bottom\"          John Rockett  02-10-2023   \n",
       "02-10-2023            Not a reliable airline  Tatiana Bobrovskaya  02-10-2023   \n",
       "28-09-2023                 Very disappointed           Tom Slowbe  28-09-2023   \n",
       "...                                      ...                  ...         ...   \n",
       "26-03-2016    seat let down very good flight     Gregory Martinez  26-03-2016   \n",
       "25-03-2016    friendly and efficient service      Philip Djaferis  25-03-2016   \n",
       "24-03-2016       BA.com been truly appalling        Joanne Le Bon  24-03-2016   \n",
       "23-03-2016   overall experience was pleasant           J Lawrence  23-03-2016   \n",
       "23-03-2016     the most uncomfortable flight                K Ong  23-03-2016   \n",
       "\n",
       "                     place                                            content  \\\n",
       "date                                                                            \n",
       "03-10-2023  United Kingdom   Just returned from Chicago, flew out 10 days ...   \n",
       "02-10-2023  United Kingdom    BA standards continue to decline every time ...   \n",
       "02-10-2023  United Kingdom    Awful. Business class check in queue just as...   \n",
       "02-10-2023  United Kingdom    Not a reliable airline. You cannot trust the...   \n",
       "28-09-2023   United States   The airplanes and the lounges are worn out, o...   \n",
       "...                    ...                                                ...   \n",
       "26-03-2016  United Kingdom    Barcelona to Seoul Incheon via London Heathr...   \n",
       "25-03-2016     Switzerland    London Heathrow to Houston on British Airway...   \n",
       "24-03-2016  United Kingdom    We have flown with British Airways over 100 ...   \n",
       "23-03-2016    South Africa    British Airways from Seattle to Johannesburg...   \n",
       "23-03-2016        Malaysia    Gatwick to Amsterdam in Business class was t...   \n",
       "\n",
       "                        aircraft  traveller_type       seat_type  \\\n",
       "date                                                               \n",
       "03-10-2023                  A380  Couple Leisure   Economy Class   \n",
       "02-10-2023                  A320        Business  Business Class   \n",
       "02-10-2023                  A320  Couple Leisure  Business Class   \n",
       "02-10-2023                  A320        Business   Economy Class   \n",
       "28-09-2023      777-300 and A320  Couple Leisure     First Class   \n",
       "...                          ...             ...             ...   \n",
       "26-03-2016            Boeing 787    Solo Leisure   Economy Class   \n",
       "25-03-2016        Boeing 777-200  Couple Leisure   Economy Class   \n",
       "24-03-2016        Boeing 747-400  Couple Leisure     First Class   \n",
       "23-03-2016  Boeing 747-400 /A380    Solo Leisure   Economy Class   \n",
       "23-03-2016                  A320    Solo Leisure  Business Class   \n",
       "\n",
       "                                         route  date_flown recommended  \\\n",
       "date                                                                     \n",
       "03-10-2023  Chicago to Manchester via Heathrow  01-10-2023          no   \n",
       "02-10-2023           London Heathrow to Munich  01-09-2023          no   \n",
       "02-10-2023                Heathrow to Istanbul  01-09-2023          no   \n",
       "02-10-2023                    London to Geneva  01-10-2023          no   \n",
       "28-09-2023    Dallas to Dubrovnik via Heathrow  01-09-2023          no   \n",
       "...                                        ...         ...         ...   \n",
       "26-03-2016                  BCN to SEL via LHR  01-03-2016         yes   \n",
       "25-03-2016                          LHR to IAH  01-03-2016         yes   \n",
       "24-03-2016                          LHR to DEN  01-03-2016          no   \n",
       "23-03-2016                  SEA to JNB via LHR  01-03-2016         yes   \n",
       "23-03-2016                          LGW to AMS  01-03-2016          no   \n",
       "\n",
       "           trip_verified  rating  seat_comfort  cabin_staff_service  \\\n",
       "date                                                                  \n",
       "03-10-2023  Not Verified       2             2                    3   \n",
       "02-10-2023      Verified       2             2                    1   \n",
       "02-10-2023  Not Verified       2             2                    3   \n",
       "02-10-2023      Verified       3             4                    4   \n",
       "28-09-2023      Verified       1             1                    4   \n",
       "...                  ...     ...           ...                  ...   \n",
       "26-03-2016      Verified       8             3                    4   \n",
       "25-03-2016      Verified       8             3                    5   \n",
       "24-03-2016      Verified       8             3                    4   \n",
       "23-03-2016      Verified       8             3                    4   \n",
       "23-03-2016      Verified       1             2                    2   \n",
       "\n",
       "            food_beverages  ground_service  value_for_money  entertainment  \n",
       "date                                                                        \n",
       "03-10-2023               1               2                2             -1  \n",
       "02-10-2023               2               1                1             -1  \n",
       "02-10-2023               2               1                1             -1  \n",
       "02-10-2023               2               1                1             -1  \n",
       "28-09-2023               4               3                2              3  \n",
       "...                    ...             ...              ...            ...  \n",
       "26-03-2016               4               4                5              4  \n",
       "25-03-2016               4               4                4              4  \n",
       "24-03-2016               3               4                2              3  \n",
       "23-03-2016               4               4                4              2  \n",
       "23-03-2016               2               3                2             -1  \n",
       "\n",
       "[1323 rows x 19 columns]"
      ]
     },
     "execution_count": 96,
     "metadata": {},
     "output_type": "execute_result"
    }
   ],
   "source": [
    "datetime_reviews = british_airline_data.set_index(british_airline_data['date'])\n",
    "datetime_reviews"
   ]
  },
  {
   "cell_type": "code",
   "execution_count": 97,
   "id": "c74cab36-e0a0-484d-9646-13108cf04f87",
   "metadata": {},
   "outputs": [
    {
     "name": "stdout",
     "output_type": "stream",
     "text": [
      "<class 'pandas.core.frame.DataFrame'>\n",
      "Index: 1323 entries, 03-10-2023 to 23-03-2016\n",
      "Data columns (total 19 columns):\n",
      " #   Column               Non-Null Count  Dtype \n",
      "---  ------               --------------  ----- \n",
      " 0   header               1323 non-null   object\n",
      " 1   author               1323 non-null   object\n",
      " 2   date                 1323 non-null   object\n",
      " 3   place                1323 non-null   object\n",
      " 4   content              1323 non-null   object\n",
      " 5   aircraft             1323 non-null   object\n",
      " 6   traveller_type       1323 non-null   object\n",
      " 7   seat_type            1323 non-null   object\n",
      " 8   route                1323 non-null   object\n",
      " 9   date_flown           1323 non-null   object\n",
      " 10  recommended          1323 non-null   object\n",
      " 11  trip_verified        1323 non-null   object\n",
      " 12  rating               1323 non-null   int64 \n",
      " 13  seat_comfort         1323 non-null   int64 \n",
      " 14  cabin_staff_service  1323 non-null   int64 \n",
      " 15  food_beverages       1323 non-null   int64 \n",
      " 16  ground_service       1323 non-null   int64 \n",
      " 17  value_for_money      1323 non-null   int64 \n",
      " 18  entertainment        1323 non-null   int64 \n",
      "dtypes: int64(7), object(12)\n",
      "memory usage: 206.7+ KB\n"
     ]
    }
   ],
   "source": [
    "datetime_reviews.info()"
   ]
  },
  {
   "cell_type": "code",
   "execution_count": 111,
   "id": "f698f830-e5ee-4d60-abdf-a9a82850ef37",
   "metadata": {},
   "outputs": [
    {
     "name": "stderr",
     "output_type": "stream",
     "text": [
      "C:\\Users\\piyus\\anaconda3\\Lib\\site-packages\\seaborn\\_oldcore.py:1119: FutureWarning: use_inf_as_na option is deprecated and will be removed in a future version. Convert inf values to NaN before operating instead.\n",
      "  with pd.option_context('mode.use_inf_as_na', True):\n",
      "C:\\Users\\piyus\\anaconda3\\Lib\\site-packages\\seaborn\\_oldcore.py:1119: FutureWarning: use_inf_as_na option is deprecated and will be removed in a future version. Convert inf values to NaN before operating instead.\n",
      "  with pd.option_context('mode.use_inf_as_na', True):\n"
     ]
    },
    {
     "data": {
      "text/plain": [
       "<Axes: xlabel='date'>"
      ]
     },
     "execution_count": 111,
     "metadata": {},
     "output_type": "execute_result"
    },
    {
     "data": {
      "image/png": "[encoded data removed]",
      "text/plain": [
       "<Figure size 640x480 with 1 Axes>"
      ]
     },
     "metadata": {},
     "output_type": "display_data"
    }
   ],
   "source": [
    "sns.lineplot(datetime_reviews[['date','rating']].iloc[0:30,:])\n"
   ]
  },
  {
   "cell_type": "code",
   "execution_count": 117,
   "id": "6f5aac44-418d-4093-b26a-3c5c6c76b478",
   "metadata": {},
   "outputs": [
    {
     "data": {
      "text/plain": [
       "<Axes: xlabel='trip_verified', ylabel='count'>"
      ]
     },
     "execution_count": 117,
     "metadata": {},
     "output_type": "execute_result"
    },
    {
     "data": {
      "image/png": "[encoded data removed]",
      "text/plain": [
       "<Figure size 640x480 with 1 Axes>"
      ]
     },
     "metadata": {},
     "output_type": "display_data"
    }
   ],
   "source": [
    "sns.countplot(data=british_airline_data, x=\"trip_verified\")"
   ]
  }
 ],
 "metadata": {
  "kernelspec": {
   "display_name": "Python 3 (ipykernel)",
   "language": "python",
   "name": "python3"
  },
  "language_info": {
   "codemirror_mode": {
    "name": "ipython",
    "version": 3
   },
   "file_extension": ".py",
   "mimetype": "text/x-python",
   "name": "python",
   "nbconvert_exporter": "python",
   "pygments_lexer": "ipython3",
   "version": "3.11.7"
  }
 },
 "nbformat": 4,
 "nbformat_minor": 5
}
